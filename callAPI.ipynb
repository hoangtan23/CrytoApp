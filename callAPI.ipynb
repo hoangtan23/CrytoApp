{
 "cells": [
  {
   "cell_type": "code",
   "execution_count": 7,
   "metadata": {},
   "outputs": [],
   "source": [
    "from requests import Request, Session\n",
    "from requests.exceptions import ConnectionError, Timeout, TooManyRedirects\n",
    "import json\n",
    "import pandas as pd\n",
    "\n",
    "url = 'https://pro-api.coinmarketcap.com/v1/cryptocurrency/listings/latest' \n",
    "#Original Sandbox Environment: 'https://sandbox-api.coinmarketcap.com/v1/cryptocurrency/listings/latest'\n",
    "parameters = {\n",
    "  'start':'1',\n",
    "  'limit':'5000',\n",
    "  'convert':'USD'\n",
    "}\n",
    "headers = {\n",
    "  'Accepts': 'application/json',\n",
    "  'X-CMC_PRO_API_KEY': '94b2912e-ed50-4320-83cf-e49bfb331682',\n",
    "}\n",
    "\n",
    "session = Session()\n",
    "session.headers.update(headers)\n",
    "\n",
    "try:\n",
    "  response = session.get(url, params=parameters)\n",
    "  data = json.loads(response.text)\n",
    "except (ConnectionError, Timeout, TooManyRedirects) as e:\n",
    "  print(e)\n",
    "\n",
    "\n",
    "df = pd.json_normalize(data['data'])\n",
    "\n",
    "df[\"Day\"] = pd.to_datetime(df[\"last_updated\"]).dt.date\n",
    "\n",
    "df[\"Coin\"] = df[\"symbol\"]\n",
    "\n",
    "df[\"Price\"] = round(df[\"quote.USD.price\"],2)\n",
    "\n",
    "df[\"Price_change_24h\"] = round(df[\"quote.USD.percent_change_24h\"],2)\n",
    "\n",
    "df[\"Price_change_90d\"] = round(df[\"quote.USD.percent_change_90d\"],2)\n",
    "\n",
    "df[\"Price_1h\"] = abs(round(-((df[\"quote.USD.price\"]*df[\"quote.USD.percent_change_1h\"]+100)/100)+df[\"quote.USD.price\"],2))\n",
    "\n",
    "df[\"Price_1d\"] = abs(round(-((df[\"quote.USD.price\"]*df[\"quote.USD.percent_change_1h\"]+100)/100)+df[\"quote.USD.price\"],2))\n",
    "\n",
    "df[\"Price_1w\"] = abs(round(-((df[\"quote.USD.price\"]*df[\"quote.USD.percent_change_7d\"]+100)/100)+df[\"quote.USD.price\"],2))\n",
    "\n",
    "df[\"Price_30day\"] = abs(round(-((df[\"quote.USD.price\"]*df[\"quote.USD.percent_change_30d\"]+100)/100)+df[\"quote.USD.price\"],2))\n",
    "\n",
    "df[\"Price_90d\"] = abs(round(-((df[\"quote.USD.price\"]*df[\"quote.USD.percent_change_90d\"]+100)/100)+df[\"quote.USD.price\"],2))\n",
    "\n",
    "df['Market_cap'] = round(df[\"quote.USD.fully_diluted_market_cap\"],0)\n",
    "\n",
    "\n",
    "df2 = df.iloc[:,36:].head(200)\n",
    "\n",
    "df2.to_csv(r'C:\\Users\\Admin\\Documents\\crytoApp\\edit.csv',index=False)\n"
   ]
  }
 ],
 "metadata": {
  "kernelspec": {
   "display_name": "Python 3",
   "language": "python",
   "name": "python3"
  },
  "language_info": {
   "codemirror_mode": {
    "name": "ipython",
    "version": 3
   },
   "file_extension": ".py",
   "mimetype": "text/x-python",
   "name": "python",
   "nbconvert_exporter": "python",
   "pygments_lexer": "ipython3",
   "version": "3.12.3"
  }
 },
 "nbformat": 4,
 "nbformat_minor": 2
}
